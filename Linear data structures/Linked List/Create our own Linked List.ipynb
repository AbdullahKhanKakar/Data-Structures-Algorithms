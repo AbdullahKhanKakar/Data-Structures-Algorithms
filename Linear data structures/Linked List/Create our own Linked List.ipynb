{
 "cells": [
  {
   "cell_type": "markdown",
   "id": "5747e1a1",
   "metadata": {},
   "source": [
    "# Linked List\n",
    "A linked list is a data structure used in computer science for organizing and storing data. Unlike arrays, which store elements in contiguous memory locations, linked lists use nodes to store data and a set of pointers to connect these nodes.\n",
    "\n",
    "#### Four main operations:\n",
    "- insert\n",
    "- traverse\n",
    "- delete\n",
    "- search\n",
    "\n",
    "#### On the basis of main operations, we will build our own methods in class, that'a below mentioned:\n",
    "- Create Node\n",
    "- Insert new head at start; insert_head()\n",
    "- Insert value in middle; insert_after()\n",
    "- Insert value at the end, after tail; append()\n",
    "- Delete all nodes; clear()\n",
    "- Delete head; delete_head()\n",
    "- Delete tail; pop()\n",
    "- Delete node by value; remove()\n",
    "- Delete node by indexing; using magic method(__delitem__)\n",
    "- Search node by value; search()\n",
    "- Search node by indexing; using magic method(__getitem__)\n",
    "- Find length of linked list; using magic method(__len__)\n",
    "- Traverse linked list; using magic method(__str__)"
   ]
  },
  {
   "cell_type": "markdown",
   "id": "f103d302",
   "metadata": {},
   "source": [
    "### LET START's to code for building our own Linked List"
   ]
  },
  {
   "cell_type": "code",
   "execution_count": 2,
   "id": "5b6987c3",
   "metadata": {},
   "outputs": [],
   "source": [
    "class Node:\n",
    "    def __init__(self, value):\n",
    "        self.data = value\n",
    "        self.next = None"
   ]
  },
  {
   "cell_type": "code",
   "execution_count": 3,
   "id": "1944e175",
   "metadata": {},
   "outputs": [],
   "source": [
    "class LinkedList:\n",
    "    def __init__(self):\n",
    "        self.head = None\n",
    "        self.n = 0\n",
    "    \n",
    "    def __len__(self):\n",
    "        return self.n\n",
    "    \n",
    "    # -----------------------------------Adding nodes-------------------------------------------\n",
    "    # insert at start\n",
    "    def insert_head(self, value):\n",
    "        # new node\n",
    "        new_node = Node(value)\n",
    "        # create connection\n",
    "        new_node.next = self.head\n",
    "        # reassign head\n",
    "        self.head = new_node\n",
    "        # increment n\n",
    "        self.n += 1\n",
    "        \n",
    "    # insert after any node in middle\n",
    "    def insert_after(self, after, value):\n",
    "        # new node\n",
    "        new_node = Node(value)\n",
    "        # find node after which we need to put value\n",
    "        cur = self.head\n",
    "        while cur!=None:\n",
    "            if cur.data==after:\n",
    "                new_node.next = cur.next\n",
    "                cur.next = new_node\n",
    "                self.n += 1\n",
    "                break\n",
    "            cur = cur.next\n",
    "            \n",
    "    # insert at the end\n",
    "    def append(self, value):\n",
    "        # new node\n",
    "        new_node = Node(value)\n",
    "        # empty list\n",
    "        if self.head==None:\n",
    "            self.head = new_node\n",
    "            self.n+=1\n",
    "            return\n",
    "        \n",
    "        cur = self.head\n",
    "        # create connection\n",
    "        while cur.next!=None:\n",
    "            cur = cur.next\n",
    "        # now we are at tail\n",
    "        cur.next = new_node\n",
    "        # increment n\n",
    "        self.n += 1\n",
    "        \n",
    "    # ----------------------------------------- Delete nodes ----------------------------------------\n",
    "    # delete all nodes\n",
    "    def clear(self):\n",
    "        self.head = None\n",
    "        self.n = 0\n",
    "    \n",
    "    # delete head\n",
    "    def delete_head(self):\n",
    "        if self.head != None:\n",
    "            self.head = self.head.next\n",
    "            self.n -= 1\n",
    "        else:\n",
    "            return \"Linked list is empty\"\n",
    "    \n",
    "    # delete tail(pop)\n",
    "    def pop(self):\n",
    "        cur = self.head\n",
    "        if cur!=None:\n",
    "            if cur.next!=None:\n",
    "                while cur.next.next!=None:\n",
    "                    cur = cur.next\n",
    "                cur.next = None\n",
    "                self.n -= 1\n",
    "            else:\n",
    "                self.delete_head()\n",
    "        else:\n",
    "            return \"Linked list is empty\"\n",
    "        \n",
    "    # delete node by value\n",
    "    def remove(self, value):\n",
    "        if self.head.data == value:\n",
    "            # we want to remove head\n",
    "            return self.delete_head()\n",
    "        \n",
    "        cur = self.head\n",
    "        while cur.next!=None:\n",
    "            if cur.next.data==value:\n",
    "                break\n",
    "            cur = cur.next\n",
    "        # item not found\n",
    "        if cur.next == None:\n",
    "            return \"Item not found\"\n",
    "        else:\n",
    "            # item found\n",
    "            cur.next = cur.next.next\n",
    "            self.n -= 1\n",
    "        \n",
    "    # delete node by indexing\n",
    "    def __delitem__(self, index):\n",
    "        cur = self.head\n",
    "        pos = 0\n",
    "        # if user want to delete head, then do it directly using deleting_head() method\n",
    "        if index==0:\n",
    "            self.delete_head()\n",
    "            return \"Deleted\"\n",
    "        else:\n",
    "            while cur!=None:\n",
    "                # we want to reach the item that's after value we want to delete \n",
    "                if pos==index-1:\n",
    "                    # don't get the index after the last value\n",
    "                    if self.n!=index:\n",
    "                        cur.next = cur.next.next\n",
    "                        self.n -= 1\n",
    "                        return \"Deleted\"\n",
    "                cur = cur.next\n",
    "                pos += 1\n",
    "            # if index not found\n",
    "            return \"IndexError: Item not deleted\"\n",
    "                    \n",
    "                \n",
    "            \n",
    "    # ---------------------------------- search nodes ------------------------------------------\n",
    "    # search node by value\n",
    "    def search(self, value):\n",
    "        cur = self.head\n",
    "        count = 0\n",
    "        # checking each head\n",
    "        while cur!=None:\n",
    "            if cur.data==value:\n",
    "                return count\n",
    "            cur = cur.next\n",
    "            count += 1\n",
    "        # if item not returned\n",
    "        return 'Item not found'\n",
    "    \n",
    "    # magic method: to search node by index\n",
    "    def __getitem__(self, index):\n",
    "        cur = self.head\n",
    "        count = 0\n",
    "        while cur!=None:\n",
    "            if count==index:\n",
    "                return cur.data\n",
    "            cur = cur.next\n",
    "            count += 1\n",
    "        return \"IndexError\"\n",
    "    \n",
    "    # ----------------------------------- traverse -----------------------------------------        \n",
    "    # magic method: print linked list    \n",
    "    def __str__(self):\n",
    "        cur = self.head\n",
    "        result = ''\n",
    "        while cur!=None:\n",
    "            result = result+str(cur.data)+'->'\n",
    "            cur = cur.next\n",
    "        return result[:-2]"
   ]
  },
  {
   "cell_type": "markdown",
   "id": "ec119132",
   "metadata": {},
   "source": [
    "### Creating linked list object and perform operations on it"
   ]
  },
  {
   "cell_type": "code",
   "execution_count": 106,
   "id": "1e1c9088",
   "metadata": {},
   "outputs": [],
   "source": [
    "l = LinkedList()"
   ]
  },
  {
   "cell_type": "code",
   "execution_count": 107,
   "id": "d1d30aad",
   "metadata": {},
   "outputs": [
    {
     "data": {
      "text/plain": [
       "'Linked list is empty'"
      ]
     },
     "execution_count": 107,
     "metadata": {},
     "output_type": "execute_result"
    }
   ],
   "source": [
    "l.delete_head()"
   ]
  },
  {
   "cell_type": "code",
   "execution_count": 108,
   "id": "c9b4235d",
   "metadata": {},
   "outputs": [],
   "source": [
    "l.append(2301)"
   ]
  },
  {
   "cell_type": "code",
   "execution_count": 109,
   "id": "30395a62",
   "metadata": {},
   "outputs": [],
   "source": [
    "l.insert_head(200)\n",
    "l.insert_head(230)\n",
    "l.insert_head(210)\n",
    "l.insert_head(530)"
   ]
  },
  {
   "cell_type": "code",
   "execution_count": 118,
   "id": "a3ea9cb1",
   "metadata": {},
   "outputs": [
    {
     "name": "stdout",
     "output_type": "stream",
     "text": [
      "530->210->230->200\n"
     ]
    }
   ],
   "source": [
    "print(l)"
   ]
  },
  {
   "cell_type": "code",
   "execution_count": 114,
   "id": "eb551f26",
   "metadata": {},
   "outputs": [
    {
     "data": {
      "text/plain": [
       "'Item not found'"
      ]
     },
     "execution_count": 114,
     "metadata": {},
     "output_type": "execute_result"
    }
   ],
   "source": [
    "l.search(23011)"
   ]
  },
  {
   "cell_type": "code",
   "execution_count": 117,
   "id": "495089f3",
   "metadata": {},
   "outputs": [],
   "source": [
    "del l[4]"
   ]
  },
  {
   "cell_type": "code",
   "execution_count": 43,
   "id": "2d14108b",
   "metadata": {},
   "outputs": [
    {
     "data": {
      "text/plain": [
       "210"
      ]
     },
     "execution_count": 43,
     "metadata": {},
     "output_type": "execute_result"
    }
   ],
   "source": [
    "l[1]"
   ]
  },
  {
   "cell_type": "code",
   "execution_count": 286,
   "id": "b8e81a31",
   "metadata": {},
   "outputs": [],
   "source": [
    "l.remove(2301)"
   ]
  },
  {
   "cell_type": "code",
   "execution_count": 212,
   "id": "6d0404b3",
   "metadata": {},
   "outputs": [
    {
     "data": {
      "text/plain": [
       "'Linked list is empty'"
      ]
     },
     "execution_count": 212,
     "metadata": {},
     "output_type": "execute_result"
    }
   ],
   "source": [
    "l.pop()"
   ]
  },
  {
   "cell_type": "code",
   "execution_count": 213,
   "id": "6c65caae",
   "metadata": {},
   "outputs": [
    {
     "name": "stdout",
     "output_type": "stream",
     "text": [
      "\n"
     ]
    }
   ],
   "source": [
    "print(l)"
   ]
  },
  {
   "cell_type": "code",
   "execution_count": 179,
   "id": "1de1457b",
   "metadata": {},
   "outputs": [],
   "source": [
    "l.append(333)"
   ]
  },
  {
   "cell_type": "code",
   "execution_count": 194,
   "id": "b6075e25",
   "metadata": {},
   "outputs": [
    {
     "data": {
      "text/plain": [
       "4"
      ]
     },
     "execution_count": 194,
     "metadata": {},
     "output_type": "execute_result"
    }
   ],
   "source": [
    "len(l)"
   ]
  },
  {
   "cell_type": "code",
   "execution_count": 199,
   "id": "03ca94c5",
   "metadata": {},
   "outputs": [
    {
     "name": "stdout",
     "output_type": "stream",
     "text": [
      "230->200\n"
     ]
    }
   ],
   "source": [
    "print(l)"
   ]
  },
  {
   "cell_type": "code",
   "execution_count": 182,
   "id": "2f782087",
   "metadata": {},
   "outputs": [],
   "source": [
    "l.insert_after(333,240)"
   ]
  },
  {
   "cell_type": "code",
   "execution_count": 185,
   "id": "95eae822",
   "metadata": {},
   "outputs": [],
   "source": [
    "l.clear()"
   ]
  }
 ],
 "metadata": {
  "kernelspec": {
   "display_name": "Python 3 (ipykernel)",
   "language": "python",
   "name": "python3"
  },
  "language_info": {
   "codemirror_mode": {
    "name": "ipython",
    "version": 3
   },
   "file_extension": ".py",
   "mimetype": "text/x-python",
   "name": "python",
   "nbconvert_exporter": "python",
   "pygments_lexer": "ipython3",
   "version": "3.11.3"
  }
 },
 "nbformat": 4,
 "nbformat_minor": 5
}
