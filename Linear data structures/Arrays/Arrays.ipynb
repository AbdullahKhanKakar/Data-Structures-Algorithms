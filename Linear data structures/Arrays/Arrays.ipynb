{
 "cells": [
  {
   "cell_type": "markdown",
   "id": "a7adc908",
   "metadata": {},
   "source": [
    "# Arrays\n",
    "Array is a container which hold fixed number of items and these items should be of the same data type.\n",
    "\n",
    "- Element: `Each item in array is called an element.`\n",
    "- Index: `Each location of element in an array has a numeric index, which is used to identify the element.`\n",
    "\n",
    "#### Operations with Arrays:\n",
    "- Accessing elements\n",
    "- Inserting elements\n",
    "- Deleting elements\n",
    "- Updating elements\n",
    "- Searching elements"
   ]
  },
  {
   "cell_type": "code",
   "execution_count": 1,
   "id": "eaed7189",
   "metadata": {},
   "outputs": [],
   "source": [
    "from array import *"
   ]
  },
  {
   "cell_type": "code",
   "execution_count": 23,
   "id": "657cd873",
   "metadata": {},
   "outputs": [],
   "source": [
    "# arrays are created on basis of Type Codes e.g, i,I,b,B,c,f,d\n",
    "my_array = array('i', [1100,230,430,900])"
   ]
  },
  {
   "cell_type": "markdown",
   "id": "fcd8d3bb",
   "metadata": {},
   "source": [
    "### Access array elements"
   ]
  },
  {
   "cell_type": "code",
   "execution_count": 24,
   "id": "ef448dbe",
   "metadata": {},
   "outputs": [
    {
     "name": "stdout",
     "output_type": "stream",
     "text": [
      "1100\n"
     ]
    }
   ],
   "source": [
    "print(my_array[0])"
   ]
  },
  {
   "cell_type": "code",
   "execution_count": 25,
   "id": "5c0684ae",
   "metadata": {},
   "outputs": [
    {
     "name": "stdout",
     "output_type": "stream",
     "text": [
      "900\n"
     ]
    }
   ],
   "source": [
    "print(my_array[-1])"
   ]
  },
  {
   "cell_type": "code",
   "execution_count": 26,
   "id": "64b85562",
   "metadata": {},
   "outputs": [
    {
     "name": "stdout",
     "output_type": "stream",
     "text": [
      "array('i', [1100, 230, 430])\n"
     ]
    }
   ],
   "source": [
    "print(my_array[:3])"
   ]
  },
  {
   "cell_type": "code",
   "execution_count": 27,
   "id": "dfcc1d3d",
   "metadata": {},
   "outputs": [
    {
     "name": "stdout",
     "output_type": "stream",
     "text": [
      "1100\n",
      "230\n",
      "430\n",
      "900\n"
     ]
    }
   ],
   "source": [
    "for i in my_array:\n",
    "    print(i)"
   ]
  },
  {
   "cell_type": "markdown",
   "id": "92c573b6",
   "metadata": {},
   "source": [
    "### Insert elements in array"
   ]
  },
  {
   "cell_type": "code",
   "execution_count": 28,
   "id": "12143beb",
   "metadata": {},
   "outputs": [
    {
     "data": {
      "text/plain": [
       "array('i', [1100, 1099, 230, 430, 900])"
      ]
     },
     "execution_count": 28,
     "metadata": {},
     "output_type": "execute_result"
    }
   ],
   "source": [
    "my_array = array('i', [1100,230,430,900])\n",
    "my_array.insert(1,1099)\n",
    "my_array"
   ]
  },
  {
   "cell_type": "markdown",
   "id": "3d0b9080",
   "metadata": {},
   "source": [
    "### Deleting array elements"
   ]
  },
  {
   "cell_type": "code",
   "execution_count": 29,
   "id": "4cbe76a4",
   "metadata": {},
   "outputs": [
    {
     "data": {
      "text/plain": [
       "array('i', [1100, 430, 900])"
      ]
     },
     "execution_count": 29,
     "metadata": {},
     "output_type": "execute_result"
    }
   ],
   "source": [
    "my_array = array('i', [1100,230,430,900])\n",
    "my_array.remove(230)\n",
    "my_array"
   ]
  },
  {
   "cell_type": "markdown",
   "id": "ff2777ba",
   "metadata": {},
   "source": [
    "### Searching array elements"
   ]
  },
  {
   "cell_type": "code",
   "execution_count": 30,
   "id": "ec3a98be",
   "metadata": {},
   "outputs": [
    {
     "data": {
      "text/plain": [
       "2"
      ]
     },
     "execution_count": 30,
     "metadata": {},
     "output_type": "execute_result"
    }
   ],
   "source": [
    "my_array = array('i', [1100,230,430,900])\n",
    "my_array.index(430)"
   ]
  },
  {
   "cell_type": "markdown",
   "id": "32f0a701",
   "metadata": {},
   "source": [
    "### Updating array elements"
   ]
  },
  {
   "cell_type": "code",
   "execution_count": 31,
   "id": "2b2ddbbf",
   "metadata": {},
   "outputs": [
    {
     "data": {
      "text/plain": [
       "array('i', [1100, 230, 430, 90000])"
      ]
     },
     "execution_count": 31,
     "metadata": {},
     "output_type": "execute_result"
    }
   ],
   "source": [
    "my_array = array('i', [1100,230,430,900])\n",
    "my_array[-1] = 90000\n",
    "my_array"
   ]
  }
 ],
 "metadata": {
  "kernelspec": {
   "display_name": "Python 3 (ipykernel)",
   "language": "python",
   "name": "python3"
  },
  "language_info": {
   "codemirror_mode": {
    "name": "ipython",
    "version": 3
   },
   "file_extension": ".py",
   "mimetype": "text/x-python",
   "name": "python",
   "nbconvert_exporter": "python",
   "pygments_lexer": "ipython3",
   "version": "3.11.3"
  }
 },
 "nbformat": 4,
 "nbformat_minor": 5
}
