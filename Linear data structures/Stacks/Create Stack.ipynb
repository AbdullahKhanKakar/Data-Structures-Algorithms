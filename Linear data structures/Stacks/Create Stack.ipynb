{
 "cells": [
  {
   "cell_type": "markdown",
   "id": "d8ff28c4",
   "metadata": {},
   "source": [
    "# Stacks:\n",
    "Stack is linear data structure the follow LIFO(Last In,First Out) principles. This means that last element added to the stack is the first one to be removed. \n",
    "\n",
    "**e.g.,** In Hostels, where waiter carry more than 1 plates in their hands. How it's possible? Actually waiter carry first plate and then place another on first plate and further it placed each new plate at the upper side. So, when waiter serves food, then it will first removes the plate that was added at the last. In this way, first plate will be served at last, when all plates will be removed. Stacks just behave like this.\n",
    "\n",
    "**A stack typically supports 3 main operations:**\n",
    "- Push: This operation Adds elements to the top of the stack.\n",
    "- Pop: This operation Removes element from the top of the stack.\n",
    "- Peek(Top): This operation retrives elements from the top of the stack without removing it.\n",
    "\n",
    "**Other operations can be:**\n",
    "- is_empty: This operation check whether the stack is empty or not.\n",
    "- size: This operation returns number of elements in the stack.\n",
    "\n",
    "**Created Methods for stack:**\n",
    "- is_empty()\n",
    "- push(value)\n",
    "- peek()\n",
    "- pop()\n",
    "- traverse() --- for printing all elements of stacks\n",
    "\n",
    "**In this notebook, we will create stack using Linked List**. LET START's CODING"
   ]
  },
  {
   "cell_type": "code",
   "execution_count": 1,
   "id": "f0af6951",
   "metadata": {},
   "outputs": [],
   "source": [
    "class Node:\n",
    "    def __init__(self, value):\n",
    "        self.data = value\n",
    "        self.next = None"
   ]
  },
  {
   "cell_type": "code",
   "execution_count": 24,
   "id": "85584274",
   "metadata": {},
   "outputs": [],
   "source": [
    "class Stack:\n",
    "    def __init__(self):\n",
    "        self.top = None\n",
    "        \n",
    "    def is_empty(self):\n",
    "        return self.top==None\n",
    "    \n",
    "    def push(self, value):\n",
    "        new_node = Node(value)\n",
    "        new_node.next = self.top\n",
    "        self.top = new_node\n",
    "    \n",
    "    def traverse(self):\n",
    "        if self.is_empty() is not True:\n",
    "            top_element = self.top\n",
    "            while top_element!=None:\n",
    "                print(top_element.data)\n",
    "                top_element = top_element.next\n",
    "        else:\n",
    "            return 'Empty Stack'\n",
    "        \n",
    "    def peek(self):\n",
    "        if self.is_empty():\n",
    "            return \"Empty Stack\"\n",
    "        else:\n",
    "            return self.top.data\n",
    "        \n",
    "    def pop(self):\n",
    "        data = self.top.data\n",
    "        self.top = self.top.next\n",
    "        return data\n",
    "    \n",
    "    def size(self):\n",
    "        if self.is_empty():\n",
    "            return 0\n",
    "        else:\n",
    "            count = 0\n",
    "            curr = self.top\n",
    "            while curr!=None:\n",
    "                count += 1\n",
    "                curr = curr.next\n",
    "            return count"
   ]
  },
  {
   "cell_type": "code",
   "execution_count": 30,
   "id": "f6c76907",
   "metadata": {},
   "outputs": [],
   "source": [
    "s = Stack()"
   ]
  },
  {
   "cell_type": "code",
   "execution_count": 31,
   "id": "2ed1ccab",
   "metadata": {},
   "outputs": [
    {
     "data": {
      "text/plain": [
       "True"
      ]
     },
     "execution_count": 31,
     "metadata": {},
     "output_type": "execute_result"
    }
   ],
   "source": [
    "s.is_empty()"
   ]
  },
  {
   "cell_type": "code",
   "execution_count": 27,
   "id": "df9e583d",
   "metadata": {},
   "outputs": [
    {
     "data": {
      "text/plain": [
       "'Empty Stack'"
      ]
     },
     "execution_count": 27,
     "metadata": {},
     "output_type": "execute_result"
    }
   ],
   "source": [
    "s.traverse()"
   ]
  },
  {
   "cell_type": "code",
   "execution_count": 28,
   "id": "93763298",
   "metadata": {},
   "outputs": [],
   "source": [
    "s.push(5)\n",
    "s.push(15)\n",
    "s.push(25)\n",
    "s.push(35)\n",
    "s.push(45)"
   ]
  },
  {
   "cell_type": "code",
   "execution_count": 9,
   "id": "8a7352d1",
   "metadata": {},
   "outputs": [
    {
     "data": {
      "text/plain": [
       "35"
      ]
     },
     "execution_count": 9,
     "metadata": {},
     "output_type": "execute_result"
    }
   ],
   "source": [
    "s.peek()"
   ]
  },
  {
   "cell_type": "code",
   "execution_count": 8,
   "id": "23882f2c",
   "metadata": {},
   "outputs": [
    {
     "data": {
      "text/plain": [
       "45"
      ]
     },
     "execution_count": 8,
     "metadata": {},
     "output_type": "execute_result"
    }
   ],
   "source": [
    "s.pop()"
   ]
  },
  {
   "cell_type": "code",
   "execution_count": 32,
   "id": "f0110c68",
   "metadata": {},
   "outputs": [
    {
     "data": {
      "text/plain": [
       "0"
      ]
     },
     "execution_count": 32,
     "metadata": {},
     "output_type": "execute_result"
    }
   ],
   "source": [
    "s.size()"
   ]
  },
  {
   "cell_type": "markdown",
   "id": "c2e6c792",
   "metadata": {},
   "source": [
    "# Solve Problems related to Stacks"
   ]
  },
  {
   "cell_type": "markdown",
   "id": "e9a0793f",
   "metadata": {},
   "source": [
    "### Q1: Reverse the given string?\n",
    "**Sample Input:** Hello\n",
    "**Sample Output:** olleH"
   ]
  },
  {
   "cell_type": "code",
   "execution_count": 10,
   "id": "88dfb936",
   "metadata": {},
   "outputs": [],
   "source": [
    "def reverse_string(text):\n",
    "    s = Stack()\n",
    "    for i in text:\n",
    "        s.push(i)\n",
    "    \n",
    "    result = ''\n",
    "    while s.is_empty() is not True:\n",
    "        result += s.pop()\n",
    "    return result"
   ]
  },
  {
   "cell_type": "code",
   "execution_count": 11,
   "id": "e6dfbeda",
   "metadata": {},
   "outputs": [
    {
     "data": {
      "text/plain": [
       "'halludbA sI emaN yM olleH'"
      ]
     },
     "execution_count": 11,
     "metadata": {},
     "output_type": "execute_result"
    }
   ],
   "source": [
    "reverse_string(\"Hello My Name Is Abdullah\")"
   ]
  },
  {
   "cell_type": "markdown",
   "id": "ba9c5cb9",
   "metadata": {},
   "source": [
    "### Q2: Stack Undo Redo?\n",
    "Two inputs will be given; one consist of String, second consist of undo redo. Undo will remove the last item and Redo will return the last item.\n",
    "\n",
    "**Sample Input:** String: \"Hello\", Undo_Redo: \"uruur\"\n",
    "**Sample Output:** Hell"
   ]
  },
  {
   "cell_type": "code",
   "execution_count": 12,
   "id": "0060b70a",
   "metadata": {},
   "outputs": [],
   "source": [
    "def undo_redo(text,pattern):\n",
    "    # create two Stacks\n",
    "    s1 = Stack() # original stack\n",
    "    s2 = Stack()\n",
    "    pattern = pattern\n",
    "    \n",
    "    # pushing characters in Stack 1 \n",
    "    for i in text:\n",
    "        s1.push(i)\n",
    "    \n",
    "    # If Undo occurs, then pop item from Stack 1 and push that item into Stack 2. \n",
    "    # If Redo occurs, then pop item from Stack 2 and push that item into Stack 1.\n",
    "    for i in pattern:\n",
    "        if i==\"u\":\n",
    "            if(not s1.is_empty()):\n",
    "                data = s1.pop()\n",
    "                s2.push(data)\n",
    "        else:\n",
    "            if(not s2.is_empty()):\n",
    "                data = s2.pop()\n",
    "                s1.push(data)\n",
    "    \n",
    "    # print new string\n",
    "    result = ''\n",
    "    while(not s1.is_empty()):\n",
    "        result = s1.pop() + result\n",
    "    return result"
   ]
  },
  {
   "cell_type": "code",
   "execution_count": 17,
   "id": "0173e6b0",
   "metadata": {},
   "outputs": [
    {
     "data": {
      "text/plain": [
       "'Hel'"
      ]
     },
     "execution_count": 17,
     "metadata": {},
     "output_type": "execute_result"
    }
   ],
   "source": [
    "undo_redo(\"Hello\",\"ururuu\")"
   ]
  },
  {
   "cell_type": "markdown",
   "id": "f2bf3300",
   "metadata": {},
   "source": [
    "### Q3: Find Celebrity?\n",
    "A square matrix will be given, we need to find **celebrity**. A celebrity is person who don't know anyone, but all peoples know them.\n",
    "\n",
    "**Sample Input:**\n",
    "  \n",
    "----**A B C D**\n",
    "  \n",
    "**A** [0 0 1 1]\n",
    "\n",
    "**B** [0 0 1 1]\n",
    "\n",
    "**C** [1 0 0 1]\n",
    "\n",
    "**D** [0 0 0 0]\n",
    "\n",
    "Here, 0,1,2,3 are four peoples in form A,B,C,D. See in the matrix. A knows to C,D. B knows to C,D. C knows to A,D. D knows to no people.\n",
    "\n",
    "**Sample Output:**\n",
    "3\n",
    "\n",
    "- Answer is 3 which represents D, because D know to no people but all other peoples A,B,C knows to D.\n",
    "\n",
    "**Assumptions:**\n",
    "- Only 1 celebrity is possible.\n",
    "- It may possible that will be no celebrity."
   ]
  },
  {
   "cell_type": "code",
   "execution_count": 36,
   "id": "00b43a49",
   "metadata": {},
   "outputs": [],
   "source": [
    "L = [\n",
    "    [0,0,1,0],\n",
    "    [1,0,1,0],\n",
    "    [0,0,0,1],\n",
    "    [1,0,1,0]\n",
    "]"
   ]
  },
  {
   "cell_type": "code",
   "execution_count": 44,
   "id": "748ff14e",
   "metadata": {},
   "outputs": [],
   "source": [
    "def find_celebrity(L):\n",
    "    \n",
    "    s = Stack()\n",
    "    for i in range(len(L)):\n",
    "        s.push(i)\n",
    "    \n",
    "    while s.size()>=2:\n",
    "        i = s.pop()\n",
    "        j = s.pop()\n",
    "        \n",
    "        if L[i][j]==0:\n",
    "            # j(C) is not a celebrity\n",
    "            s.push(i)\n",
    "        else:\n",
    "            # i(D) is not a celebrity\n",
    "            s.push(j)\n",
    "    \n",
    "    celebrity = s.pop()\n",
    "    for i in range(len(L)):\n",
    "        if i!=celebrity:\n",
    "            if L[i][celebrity]==0 or L[celebrity][i]==1:\n",
    "                print(\"No celebrity exist\")\n",
    "                return\n",
    "    return f\"The celebrity is: {celebrity}\""
   ]
  },
  {
   "cell_type": "code",
   "execution_count": 45,
   "id": "af8b9aa6",
   "metadata": {},
   "outputs": [
    {
     "name": "stdout",
     "output_type": "stream",
     "text": [
      "No celebrity exist\n"
     ]
    }
   ],
   "source": [
    "find_celebrity(L)"
   ]
  },
  {
   "cell_type": "markdown",
   "id": "2daeb8f7",
   "metadata": {},
   "source": [
    "### Q4: Check whether the brakets are both opened and closed. If yes, returns True otherwise False?\n",
    "\n",
    "**Sample Input:** {(a+b)+[b]}  \n",
    "**Sample Output:** True\n",
    "\n",
    "**Sample Input:** {(a+b+{b]}  \n",
    "**Sample Output:** False"
   ]
  },
  {
   "cell_type": "code",
   "execution_count": null,
   "id": "aa0b2799",
   "metadata": {},
   "outputs": [],
   "source": [
    "# Find it, it's for you"
   ]
  }
 ],
 "metadata": {
  "kernelspec": {
   "display_name": "Python 3 (ipykernel)",
   "language": "python",
   "name": "python3"
  },
  "language_info": {
   "codemirror_mode": {
    "name": "ipython",
    "version": 3
   },
   "file_extension": ".py",
   "mimetype": "text/x-python",
   "name": "python",
   "nbconvert_exporter": "python",
   "pygments_lexer": "ipython3",
   "version": "3.11.3"
  }
 },
 "nbformat": 4,
 "nbformat_minor": 5
}
