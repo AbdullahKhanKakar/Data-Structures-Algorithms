{
 "cells": [
  {
   "cell_type": "markdown",
   "id": "1198ba59",
   "metadata": {},
   "source": [
    "# Queues\n",
    "A queue is a linear data structure that follows FIFO(First In, First Out) principle. In a queue, we added(adding in queue called enqueue) elements from tail(tail in queue called rear) and removing(removing in queue called dequeue) elements from head(head in queue called front).\n",
    "\n",
    "**We can perform following operations with queue:**\n",
    "- Enqueue(Insertion): Adding elements from the rear(tail) of the Queue\n",
    "- Dequeue(Deletion): Deleting elements from the front(head) of the Queue\n",
    "- Front: Return the first element of the Queue\n",
    "- Rear: Return the last element of the Queue\n",
    "- Traverse: Printing elements in Queue\n",
    "- IsEmpty: Checking whether the Queue is empty or not. Returns True in case of empty Queue\n",
    "- Size: Returns number of elements in Queue\n",
    "\n",
    "**I give these names to following operations, in this notebook:**\n",
    "- enqueue()\n",
    "- dequeue()\n",
    "- peek_front()\n",
    "- peek_rear()\n",
    "- traverse()\n",
    "- is_empty()\n",
    "- size()"
   ]
  },
  {
   "cell_type": "code",
   "execution_count": 1,
   "id": "fa6bf720",
   "metadata": {},
   "outputs": [],
   "source": [
    "class Node:\n",
    "    def __init__(self, value):\n",
    "        self.data = value\n",
    "        self.next = None"
   ]
  },
  {
   "cell_type": "code",
   "execution_count": 38,
   "id": "68013851",
   "metadata": {},
   "outputs": [],
   "source": [
    "class Queue:\n",
    "    def __init__(self):\n",
    "        self.front = None\n",
    "        self.rear = None\n",
    "        \n",
    "    def enqueue(self, value):\n",
    "        new_node = Node(value)\n",
    "        \n",
    "        # checking if the Queue is empty, else insert element at rear(tail)\n",
    "        if self.front==None:\n",
    "            self.front = new_node\n",
    "            self.rear = self.front\n",
    "        else:\n",
    "            self.rear.next = new_node\n",
    "            self.rear = new_node\n",
    "            \n",
    "    def dequeue(self):\n",
    "        if self.front==None:\n",
    "            return \"Empty\"\n",
    "        else:\n",
    "            self.front = self.front.next # removing element from front\n",
    "            \n",
    "    def traverse(self):\n",
    "        temp = self.front\n",
    "        while temp!=None:\n",
    "            print(temp.data, end=\" \")\n",
    "            temp = temp.next\n",
    "            \n",
    "    def is_empty(self):\n",
    "        return self.front==None\n",
    "    \n",
    "    def size(self):\n",
    "        temp = self.front\n",
    "        count = 0\n",
    "        while temp!=None:\n",
    "            count += 1\n",
    "            temp = temp.next\n",
    "        return count\n",
    "    \n",
    "    def peek_front(self):\n",
    "        # if Queue not empty, then returns front element\n",
    "        if self.front==None:\n",
    "            return \"Empty\"\n",
    "        else:\n",
    "            return self.front.data\n",
    "    \n",
    "    def peek_rear(self):\n",
    "        # if Queue not empty, then returns rear element\n",
    "        if self.front==None:\n",
    "            return \"Empty\"\n",
    "        else:\n",
    "            return self.rear.data"
   ]
  },
  {
   "cell_type": "code",
   "execution_count": 50,
   "id": "a42ef032",
   "metadata": {},
   "outputs": [],
   "source": [
    "q = Queue()"
   ]
  },
  {
   "cell_type": "code",
   "execution_count": 51,
   "id": "e2a43c44",
   "metadata": {},
   "outputs": [
    {
     "data": {
      "text/plain": [
       "'Empty'"
      ]
     },
     "execution_count": 51,
     "metadata": {},
     "output_type": "execute_result"
    }
   ],
   "source": [
    "q.dequeue()"
   ]
  },
  {
   "cell_type": "code",
   "execution_count": 52,
   "id": "df552386",
   "metadata": {},
   "outputs": [],
   "source": [
    "q.enqueue(7)\n",
    "q.enqueue(8)\n",
    "q.enqueue(10)\n",
    "q.enqueue(13)\n",
    "q.enqueue(15)\n",
    "q.enqueue(18)\n",
    "q.enqueue(20)"
   ]
  },
  {
   "cell_type": "code",
   "execution_count": 53,
   "id": "a6a5be12",
   "metadata": {},
   "outputs": [
    {
     "name": "stdout",
     "output_type": "stream",
     "text": [
      "7 8 10 13 15 18 20 "
     ]
    }
   ],
   "source": [
    "q.traverse()"
   ]
  },
  {
   "cell_type": "code",
   "execution_count": 54,
   "id": "9cf1de23",
   "metadata": {},
   "outputs": [
    {
     "data": {
      "text/plain": [
       "7"
      ]
     },
     "execution_count": 54,
     "metadata": {},
     "output_type": "execute_result"
    }
   ],
   "source": [
    "q.size()"
   ]
  },
  {
   "cell_type": "code",
   "execution_count": 55,
   "id": "97e29e7c",
   "metadata": {},
   "outputs": [
    {
     "data": {
      "text/plain": [
       "False"
      ]
     },
     "execution_count": 55,
     "metadata": {},
     "output_type": "execute_result"
    }
   ],
   "source": [
    "q.is_empty()"
   ]
  },
  {
   "cell_type": "code",
   "execution_count": 56,
   "id": "6c66f979",
   "metadata": {},
   "outputs": [
    {
     "data": {
      "text/plain": [
       "7"
      ]
     },
     "execution_count": 56,
     "metadata": {},
     "output_type": "execute_result"
    }
   ],
   "source": [
    "q.peek_front()"
   ]
  },
  {
   "cell_type": "code",
   "execution_count": 57,
   "id": "f7768e63",
   "metadata": {},
   "outputs": [
    {
     "data": {
      "text/plain": [
       "20"
      ]
     },
     "execution_count": 57,
     "metadata": {},
     "output_type": "execute_result"
    }
   ],
   "source": [
    "q.peek_rear()"
   ]
  }
 ],
 "metadata": {
  "kernelspec": {
   "display_name": "Python 3 (ipykernel)",
   "language": "python",
   "name": "python3"
  },
  "language_info": {
   "codemirror_mode": {
    "name": "ipython",
    "version": 3
   },
   "file_extension": ".py",
   "mimetype": "text/x-python",
   "name": "python",
   "nbconvert_exporter": "python",
   "pygments_lexer": "ipython3",
   "version": "3.11.3"
  }
 },
 "nbformat": 4,
 "nbformat_minor": 5
}
