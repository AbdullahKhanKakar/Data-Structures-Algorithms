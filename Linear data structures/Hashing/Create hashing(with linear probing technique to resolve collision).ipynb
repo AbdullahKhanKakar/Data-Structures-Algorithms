{
 "cells": [
  {
   "cell_type": "markdown",
   "id": "51c825eb",
   "metadata": {},
   "source": [
    "# Hashing:\n",
    "\n",
    "Hashing is a technique used to store data in such a way that we can get it quickly. This concept similar to dictionary where we store value on basis of key, that's key play role as an index which we used to get value. \n",
    "\n",
    "**How I create hashing in this notebook:**\n",
    "\n",
    "I create 2 fixed-size arrays. In 1st array, we store key and in 2nd array we will store value. \n",
    "\n",
    "**Important concepts about Hashing:**\n",
    "- **Hashing code:** It's index where we will store value. This index is find with help of hashing function.\n",
    "- **Hashing function:** This function return us index position to store value. It calculate it on basis of key. \n",
    "- **Collision:** A collision occurs when two different keys produce the same hash code.\n",
    "\n",
    "**2 ways to resolve collision:**\n",
    "- **First way:** Chaining, it allow us to consider each position of array as an Linked list.\n",
    "- **Second way:** Linear or Quadratic probing, it allow us to store value at next index until it not found in None state.\n",
    "\n",
    "**Functions that I create in this notebook:**\n",
    "- put() ---- It takes 2 arguments, key and value.\n",
    "- get() ---- It takes 1 argument, key to get value.\n",
    "- hash_function() ---- To calculate hash code.\n",
    "- rehash() ---- To find empty space in case of collision.\n",
    "- str() ---- MagicMethod, to print dictionary\n",
    "- getitem() ---- MagicMethod, to get value on basis of key.\n",
    "- setitem() ---- MagicMethod, to update or add key-value pair.\n",
    "\n",
    "## This notebook follows second method(linear probing) to resolve collision"
   ]
  },
  {
   "cell_type": "code",
   "execution_count": 100,
   "id": "b2b76c99",
   "metadata": {},
   "outputs": [],
   "source": [
    "class Dictionary:\n",
    "    # user will provide size of array\n",
    "    def __init__(self, size):\n",
    "        self.size = size\n",
    "        self.slots = [None]*self.size\n",
    "        self.data = [None]*self.size\n",
    "        \n",
    "    # magic method: to set item of dictionary\n",
    "    def __setitem__(self, key, value):\n",
    "        self.put(key, value)\n",
    "    \n",
    "    # magic method: to get item of dictionary\n",
    "    def __getitem__(self, key):\n",
    "        return self.get(key)\n",
    "    \n",
    "    # magic method: to print dictionary\n",
    "    def __str__(self):\n",
    "        print(\"{\", end=\"\")\n",
    "        for i in range(len(self.slots)):\n",
    "            if self.slots[i]!=None:\n",
    "                print(self.slots[i], \":\", self.data[i], end=\", \")\n",
    "        print(\"}\")\n",
    "        return \"\"\n",
    "    \n",
    "    # inserting key-value pair in dictionary\n",
    "    def put(self, key, value):\n",
    "        # finding hash value through separate function\n",
    "        hash_value = self.hash_function(key)\n",
    "        \n",
    "        # if given index of array is empty\n",
    "        if self.slots[hash_value] == None:\n",
    "            self.slots[hash_value] = key\n",
    "            self.data[hash_value] = value\n",
    "        else:\n",
    "            # if key is matched, then only update value\n",
    "            if self.slots[hash_value] == key:\n",
    "                self.data[hash_value] = value\n",
    "            else:\n",
    "                new_hash_value = self.rehash(hash_value)\n",
    "                \n",
    "                # if key not matched, finding new hash value until it's not None and key not matched\n",
    "                while self.slots[new_hash_value] != None and self.slots[new_hash_value] != key:\n",
    "                    new_hash_value = self.rehash(new_hash_value)\n",
    "                \n",
    "                # if None index found\n",
    "                if self.slots[new_hash_value] == None:\n",
    "                    self.slots[new_hash_value] = key\n",
    "                    self.data[new_hash_value] = value\n",
    "                else:\n",
    "                    # else means same key found\n",
    "                    self.data[new_hash_value] = value\n",
    "                    \n",
    "    def get(self, key):\n",
    "        start_position = self.hash_function(key)\n",
    "        current_position = start_position\n",
    "        \n",
    "        # Jab tak None na milla tab tak key find karta raho\n",
    "        while self.slots[current_position]!=None:\n",
    "            # agar key mill gaye\n",
    "            if self.slots[current_position] == key:\n",
    "                return self.data[current_position]\n",
    "            \n",
    "            # new hash value calculate karta raho jab tak None na milla\n",
    "            current_position = self.rehash(current_position)\n",
    "            \n",
    "            # jaha sa start hoa wahi par a gaye to 'not found'\n",
    "            if current_position==start_position:\n",
    "                return \"Not Found\"\n",
    "        return \"Not Found\"\n",
    "    \n",
    "    # re-hashing \n",
    "    def rehash(self, old_hash_value):\n",
    "        return (old_hash_value +1) % self.size\n",
    "    \n",
    "    # this method will return hash value or index with the help of which we will store values to array\n",
    "    def hash_function(self, key):\n",
    "        return abs(hash(key)) % self.size"
   ]
  },
  {
   "cell_type": "markdown",
   "id": "4c389ef1",
   "metadata": {},
   "source": [
    "### Testing"
   ]
  },
  {
   "cell_type": "code",
   "execution_count": 101,
   "id": "fce48432",
   "metadata": {},
   "outputs": [],
   "source": [
    "dic = Dictionary(5)"
   ]
  },
  {
   "cell_type": "code",
   "execution_count": 105,
   "id": "4dc5f58c",
   "metadata": {},
   "outputs": [
    {
     "name": "stdout",
     "output_type": "stream",
     "text": [
      "{100 : Python, 101 : Java, 102 : Php, 103 : Kotlin, 104 : Node.js, }\n",
      "\n"
     ]
    }
   ],
   "source": [
    "print(dic)"
   ]
  },
  {
   "cell_type": "code",
   "execution_count": 103,
   "id": "867f84cd",
   "metadata": {},
   "outputs": [
    {
     "name": "stdout",
     "output_type": "stream",
     "text": [
      "[None, None, None, None, None]\n",
      "[None, None, None, None, None]\n"
     ]
    }
   ],
   "source": [
    "print(dic.slots)\n",
    "print(dic.data)"
   ]
  },
  {
   "cell_type": "code",
   "execution_count": 104,
   "id": "4e434454",
   "metadata": {},
   "outputs": [],
   "source": [
    "dic.put(100,\"Python\")\n",
    "dic.put(101,\"Java\")\n",
    "dic.put(102,\"Php\")\n",
    "dic.put(103,\"Kotlin\")\n",
    "dic.put(104,\"Node.js\")"
   ]
  },
  {
   "cell_type": "code",
   "execution_count": 57,
   "id": "bfde7d65",
   "metadata": {},
   "outputs": [],
   "source": [
    "dic[100] = \"Python\""
   ]
  },
  {
   "cell_type": "code",
   "execution_count": 64,
   "id": "ea2632f4",
   "metadata": {},
   "outputs": [
    {
     "data": {
      "text/plain": [
       "'Java'"
      ]
     },
     "execution_count": 64,
     "metadata": {},
     "output_type": "execute_result"
    }
   ],
   "source": [
    "dic.get(101)"
   ]
  }
 ],
 "metadata": {
  "kernelspec": {
   "display_name": "Python 3 (ipykernel)",
   "language": "python",
   "name": "python3"
  },
  "language_info": {
   "codemirror_mode": {
    "name": "ipython",
    "version": 3
   },
   "file_extension": ".py",
   "mimetype": "text/x-python",
   "name": "python",
   "nbconvert_exporter": "python",
   "pygments_lexer": "ipython3",
   "version": "3.11.3"
  }
 },
 "nbformat": 4,
 "nbformat_minor": 5
}
