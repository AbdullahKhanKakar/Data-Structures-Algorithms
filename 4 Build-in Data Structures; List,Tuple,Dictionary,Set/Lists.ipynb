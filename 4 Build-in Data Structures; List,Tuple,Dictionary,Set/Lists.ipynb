{
 "cells": [
  {
   "cell_type": "markdown",
   "id": "36c4ef99",
   "metadata": {},
   "source": [
    "# Lists\n",
    "List is used to store multiple items in a single variable. List items can:\n",
    "- Ordered\n",
    "- Changeable (means we can adding, removing, updating items from lists)\n",
    "- Allow Duplicated values"
   ]
  },
  {
   "cell_type": "code",
   "execution_count": 1,
   "id": "5ef35ee8",
   "metadata": {},
   "outputs": [
    {
     "data": {
      "text/plain": [
       "['Apple', 'Banana', 'Orange']"
      ]
     },
     "execution_count": 1,
     "metadata": {},
     "output_type": "execute_result"
    }
   ],
   "source": [
    "# List Constructors\n",
    "l = list((\"Apple\",\"Banana\",\"Orange\"))\n",
    "l"
   ]
  },
  {
   "cell_type": "markdown",
   "id": "ff4616f2",
   "metadata": {},
   "source": [
    "### Accessing List Items"
   ]
  },
  {
   "cell_type": "code",
   "execution_count": 10,
   "id": "7eb2fb85",
   "metadata": {},
   "outputs": [
    {
     "name": "stdout",
     "output_type": "stream",
     "text": [
      "[1, 2]\n",
      "[1, 2, 3, 'apple', 'mango', 'orange', 34.45, 22.1, 9]\n",
      "['orange', 34.45, 22.1, 9, 10]\n",
      "No, Kerry is not present in list\n"
     ]
    }
   ],
   "source": [
    "l = [1,2,3,\"apple\",\"mango\",\"orange\",34.45,22.1,9,10]\n",
    "\n",
    "print(l[0:2]) #method 1\n",
    "print(l[-10:-1]) #method 2\n",
    "print(l[5:]) #method3\n",
    "# checking specific item in list\n",
    "if \"Kerry\" in l:\n",
    "    print(\"Yes, Kerry is present in list\")\n",
    "else:\n",
    "    print(\"No, Kerry is not present in list\")"
   ]
  },
  {
   "cell_type": "markdown",
   "id": "646bf474",
   "metadata": {},
   "source": [
    "### Changing Lists Items (update or change items)"
   ]
  },
  {
   "cell_type": "code",
   "execution_count": 13,
   "id": "9a21face",
   "metadata": {},
   "outputs": [
    {
     "name": "stdout",
     "output_type": "stream",
     "text": [
      "[111, 2, 3, 'apple', 'mango', 'orange', 34.45, 22.1, 9, 10]\n",
      "[111, 222, 333, 3, 'apple', 'mango', 'orange', 34.45, 22.1, 9, 10]\n",
      "[111, 222, 333, 'Apple', 'Mango', 'mango', 'orange', 34.45, 22.1, 9, 10]\n"
     ]
    }
   ],
   "source": [
    "l = [1,2,3,\"apple\",\"mango\",\"orange\",34.45,22.1,9,10]\n",
    "\n",
    "l[0] = 111 #method 1\n",
    "print(l)\n",
    "\n",
    "l[3:5] = [\"Apple\",\"Mango\"]\n",
    "print(l)"
   ]
  },
  {
   "cell_type": "code",
   "execution_count": 14,
   "id": "c5d6ebea",
   "metadata": {},
   "outputs": [
    {
     "name": "stdout",
     "output_type": "stream",
     "text": [
      "[1, 222, 333, 3, 'apple', 'mango', 'orange', 34.45, 22.1, 9, 10]\n"
     ]
    }
   ],
   "source": [
    "l = [1,2,3,\"apple\",\"mango\",\"orange\",34.45,22.1,9,10]\n",
    "l[1:2] = [222,333] #method 2; will increase length of list\n",
    "print(l)"
   ]
  },
  {
   "cell_type": "code",
   "execution_count": 16,
   "id": "a5050167",
   "metadata": {},
   "outputs": [
    {
     "name": "stdout",
     "output_type": "stream",
     "text": [
      "[1, 2, 3, 'Apple', 'orange', 34.45, 22.1, 9, 10]\n"
     ]
    }
   ],
   "source": [
    "l = [1,2,3,\"apple\",\"mango\",\"orange\",34.45,22.1,9,10]\n",
    "l[3:5] = [\"Apple\"] #method 3: will decrease length of list\n",
    "print(l)"
   ]
  },
  {
   "cell_type": "markdown",
   "id": "f98cbe63",
   "metadata": {},
   "source": [
    "### Changing List Items (adding items)"
   ]
  },
  {
   "cell_type": "code",
   "execution_count": 19,
   "id": "bda877ae",
   "metadata": {},
   "outputs": [
    {
     "name": "stdout",
     "output_type": "stream",
     "text": [
      "['new1', 1, 2, 3, 'apple', 'mango', 'orange', 34.45, 22.1, 9, 10]\n"
     ]
    }
   ],
   "source": [
    "# insert method\n",
    "l = [1,2,3,\"apple\",\"mango\",\"orange\",34.45,22.1,9,10]\n",
    "l.insert(0, \"new1\")\n",
    "print(l)"
   ]
  },
  {
   "cell_type": "code",
   "execution_count": 26,
   "id": "20436f6f",
   "metadata": {},
   "outputs": [
    {
     "name": "stdout",
     "output_type": "stream",
     "text": [
      "[1, 2, 3, 'apple', 'mango', 'orange', 34.45, 22.1, 9, 10, 'Abdullah']\n",
      "[1, 2, 3, 'apple', 'mango', 'orange', 34.45, 22.1, 9, 10, 'Abdullah', 'new1', 'new2', 'new3', 'new4', 'new5']\n"
     ]
    }
   ],
   "source": [
    "# append method\n",
    "l = [1,2,3,\"apple\",\"mango\",\"orange\",34.45,22.1,9,10]\n",
    "l.append(\"Abdullah\")\n",
    "print(l)\n",
    "# appending through loop\n",
    "new_l = [\"new1\",\"new2\",\"new3\",\"new4\",\"new5\"]\n",
    "for i in new_l:\n",
    "    l.append(i)\n",
    "print(l)"
   ]
  },
  {
   "cell_type": "code",
   "execution_count": 30,
   "id": "b6074bad",
   "metadata": {},
   "outputs": [
    {
     "name": "stdout",
     "output_type": "stream",
     "text": [
      "[1, 2, 3, 'apple', 'mango', 'orange', 34.45, 22.1, 9, 10, 'New1', 'New2', 'new1', 'new2']\n"
     ]
    }
   ],
   "source": [
    "# extend method\n",
    "l = [1,2,3,\"apple\",\"mango\",\"orange\",34.45,22.1,9,10]\n",
    "new_l = [\"new1\",\"new2\"]\n",
    "new_t = (\"New1\",\"New2\")\n",
    "l.extend(new_t)\n",
    "l.extend(new_l)\n",
    "print(l)"
   ]
  },
  {
   "cell_type": "markdown",
   "id": "311c28fc",
   "metadata": {},
   "source": [
    "### Changing List Items (remove items)"
   ]
  },
  {
   "cell_type": "code",
   "execution_count": 33,
   "id": "c31c14bc",
   "metadata": {},
   "outputs": [
    {
     "name": "stdout",
     "output_type": "stream",
     "text": [
      "[1, 2, 3, 'mango', 'orange', 34.45, 22.1, 9, 10]\n",
      "[1, 2, 3, 'orange', 34.45, 22.1, 9, 10]\n"
     ]
    }
   ],
   "source": [
    "# remove method\n",
    "l = [1,2,3,\"apple\",\"mango\",\"orange\",34.45,22.1,9,10]\n",
    "l.remove(\"apple\")\n",
    "print(l)\n",
    "l.remove(\"mango\")\n",
    "print(l)"
   ]
  },
  {
   "cell_type": "code",
   "execution_count": 37,
   "id": "ff4664bc",
   "metadata": {},
   "outputs": [
    {
     "name": "stdout",
     "output_type": "stream",
     "text": [
      "[2, 3, 'apple', 'mango', 'orange', 34.45, 22.1, 9, 10]\n",
      "[2, 3, 'apple', 'mango', 'orange', 34.45, 22.1, 9]\n",
      "[2, 3, 'apple', 'mango', 'orange', 34.45, 22.1, 9, 10]\n",
      "[]\n"
     ]
    }
   ],
   "source": [
    "# pop method\n",
    "l = [1,2,3,\"apple\",\"mango\",\"orange\",34.45,22.1,9,10]\n",
    "l.pop(0)\n",
    "print(l)\n",
    "l.pop(-1)\n",
    "print(l)\n",
    "\n",
    "# alternative: del method\n",
    "l = [1,2,3,\"apple\",\"mango\",\"orange\",34.45,22.1,9,10]\n",
    "del l[0]\n",
    "print(l)\n",
    "\n",
    "# deleting whole items\n",
    "l = [1,2,3,\"apple\",\"mango\",\"orange\",34.45,22.1,9,10]\n",
    "l.clear()\n",
    "print(l)"
   ]
  },
  {
   "cell_type": "markdown",
   "id": "492473f1",
   "metadata": {},
   "source": [
    "## List Comprehension\n",
    "List comprehension offers a shorter syntax when you want to create a new list based on the values of an existing list."
   ]
  },
  {
   "cell_type": "code",
   "execution_count": 40,
   "id": "2c65efce",
   "metadata": {},
   "outputs": [
    {
     "name": "stdout",
     "output_type": "stream",
     "text": [
      "[22]\n"
     ]
    }
   ],
   "source": [
    "# situation 1\n",
    "l = [11,22,33,44,55]\n",
    "new_l = []\n",
    "\n",
    "for item in l:\n",
    "    if item==22:\n",
    "        new_l.append(item)\n",
    "print(new_l)"
   ]
  },
  {
   "cell_type": "code",
   "execution_count": 41,
   "id": "b4f699bf",
   "metadata": {},
   "outputs": [
    {
     "name": "stdout",
     "output_type": "stream",
     "text": [
      "[22]\n"
     ]
    }
   ],
   "source": [
    "# alternative way of situation 1\n",
    "l = [11,22,33,44,55]\n",
    "new_l = [i for i in l if i==22]\n",
    "print(new_l)"
   ]
  },
  {
   "cell_type": "code",
   "execution_count": 45,
   "id": "51504aa4",
   "metadata": {},
   "outputs": [
    {
     "name": "stdout",
     "output_type": "stream",
     "text": [
      "['apple', 'mango', 'Fruit Not Mentioned', 'cherry', 'banana']\n"
     ]
    }
   ],
   "source": [
    "# situation 2\n",
    "l = [\"apple\",\"mango\",\"orange\",\"cherry\",\"banana\"]\n",
    "new_l = []\n",
    "\n",
    "for item in l:\n",
    "    if item!=\"orange\":\n",
    "        new_l.append(item)\n",
    "    else:\n",
    "        new_l.append(\"Fruit Not Mentioned\")\n",
    "print(new_l)"
   ]
  },
  {
   "cell_type": "code",
   "execution_count": 48,
   "id": "183a2809",
   "metadata": {},
   "outputs": [
    {
     "name": "stdout",
     "output_type": "stream",
     "text": [
      "['Fruit not mentioned', 'mango', 'orange', 'cherry', 'banana']\n"
     ]
    }
   ],
   "source": [
    "# alternative way of situation 2\n",
    "fruits = [\"apple\",\"mango\",\"orange\",\"cherry\",\"banana\"]\n",
    "new_l = [x if x!=\"apple\" else \"Fruit not mentioned\" for x in fruits]\n",
    "print(new_l)"
   ]
  },
  {
   "cell_type": "markdown",
   "id": "28e99ee5",
   "metadata": {},
   "source": [
    "## List Sorting"
   ]
  },
  {
   "cell_type": "code",
   "execution_count": 56,
   "id": "33195a75",
   "metadata": {},
   "outputs": [
    {
     "name": "stdout",
     "output_type": "stream",
     "text": [
      "[1, 10, 22, 43]\n",
      "[43, 22, 10, 1]\n"
     ]
    }
   ],
   "source": [
    "brands = [22,43,1,10]\n",
    "brands.sort() # ascending\n",
    "print(brands)\n",
    "brands.sort(reverse=True) # descending\n",
    "print(brands)"
   ]
  },
  {
   "cell_type": "markdown",
   "id": "a57551e3",
   "metadata": {},
   "source": [
    "## Get index of specific item in List"
   ]
  },
  {
   "cell_type": "code",
   "execution_count": 68,
   "id": "152b83c2",
   "metadata": {},
   "outputs": [
    {
     "data": {
      "text/plain": [
       "1"
      ]
     },
     "execution_count": 68,
     "metadata": {},
     "output_type": "execute_result"
    }
   ],
   "source": [
    "# insert method\n",
    "fruit = [\"Apple\",\"Mango\",\"Orange\",\"Mango\"]\n",
    "fruit.index(\"Mango\")"
   ]
  },
  {
   "cell_type": "code",
   "execution_count": 69,
   "id": "1b72baae",
   "metadata": {},
   "outputs": [
    {
     "data": {
      "text/plain": [
       "2"
      ]
     },
     "execution_count": 69,
     "metadata": {},
     "output_type": "execute_result"
    }
   ],
   "source": [
    "# count method\n",
    "fruit.count(\"Mango\")"
   ]
  },
  {
   "cell_type": "markdown",
   "id": "369bd973",
   "metadata": {},
   "source": [
    "## Conclusion:\n",
    "\n",
    "### Important List Methods\n",
    "\n",
    "- insert()\n",
    "- append()\n",
    "- extent()\n",
    "- remove()\n",
    "- pop()\n",
    "- copy()\n",
    "- clear()\n",
    "- index()\n",
    "- sort()\n",
    "- reverse()\n",
    "- count()"
   ]
  }
 ],
 "metadata": {
  "kernelspec": {
   "display_name": "Python 3 (ipykernel)",
   "language": "python",
   "name": "python3"
  },
  "language_info": {
   "codemirror_mode": {
    "name": "ipython",
    "version": 3
   },
   "file_extension": ".py",
   "mimetype": "text/x-python",
   "name": "python",
   "nbconvert_exporter": "python",
   "pygments_lexer": "ipython3",
   "version": "3.11.3"
  }
 },
 "nbformat": 4,
 "nbformat_minor": 5
}
