{
 "cells": [
  {
   "cell_type": "markdown",
   "id": "660872bf",
   "metadata": {},
   "source": [
    "# Tuples\n",
    "Tuples are used to store multiple items in a single variable. Tuples allows:\n",
    "\n",
    "- Ordered\n",
    "- Unchangeable(we cannot add, remove and update items in tuple)\n",
    "- Duplicated"
   ]
  },
  {
   "cell_type": "markdown",
   "id": "36fcad6f",
   "metadata": {},
   "source": [
    "#### Tuple Consturctor"
   ]
  },
  {
   "cell_type": "code",
   "execution_count": 4,
   "id": "fab19ba5",
   "metadata": {},
   "outputs": [
    {
     "name": "stdout",
     "output_type": "stream",
     "text": [
      "<class 'tuple'>\n"
     ]
    }
   ],
   "source": [
    "t = tuple((\"apple\",\"mango\",\"orange\"))\n",
    "print(type(t))"
   ]
  },
  {
   "cell_type": "markdown",
   "id": "0f13f543",
   "metadata": {},
   "source": [
    "#### Accessing tuple items"
   ]
  },
  {
   "cell_type": "code",
   "execution_count": 7,
   "id": "f75befab",
   "metadata": {},
   "outputs": [
    {
     "name": "stdout",
     "output_type": "stream",
     "text": [
      "apple\n",
      "('apple', 'mango', 12)\n",
      "(12, 23, 34)\n"
     ]
    }
   ],
   "source": [
    "t = (\"apple\",\"mango\",12,23,34,True)\n",
    "print(t[0])\n",
    "print(t[:3])\n",
    "print(t[-4:-1])"
   ]
  },
  {
   "cell_type": "markdown",
   "id": "c700553d",
   "metadata": {},
   "source": [
    "#### Way to possible unchangeable word to changeable in Tuple\n",
    "\n",
    "Convert tuple into list, then perform the operations to add, remove and update items"
   ]
  },
  {
   "cell_type": "code",
   "execution_count": 11,
   "id": "63c6f845",
   "metadata": {},
   "outputs": [
    {
     "name": "stdout",
     "output_type": "stream",
     "text": [
      "(1, 3, 4, 5, 6, 'apple', 'mango')\n"
     ]
    }
   ],
   "source": [
    "Tuple = (1,2,3,4,5)\n",
    "List = list(Tuple)\n",
    "List.append(6)\n",
    "List.extend([\"apple\",\"mango\"])\n",
    "List.remove(2)\n",
    "Tuple = tuple(List)\n",
    "print(Tuple)"
   ]
  },
  {
   "cell_type": "markdown",
   "id": "4c411d27",
   "metadata": {},
   "source": [
    "#### Unpacking Tuples"
   ]
  },
  {
   "cell_type": "code",
   "execution_count": 23,
   "id": "e7044e3d",
   "metadata": {},
   "outputs": [
    {
     "name": "stdout",
     "output_type": "stream",
     "text": [
      "11 22 33 44 [55, 'mango']\n"
     ]
    }
   ],
   "source": [
    "t = (11,22,33,44,55,\"mango\")\n",
    "a,b,c,d,*e = t\n",
    "print(a,b,c,d,e)"
   ]
  },
  {
   "cell_type": "markdown",
   "id": "904807c3",
   "metadata": {},
   "source": [
    "#### Tuple Methods\n",
    "\n",
    "There are only 2 built-in methods of Tuple:\n",
    "- count()\n",
    "- index()"
   ]
  },
  {
   "cell_type": "code",
   "execution_count": 24,
   "id": "206ec8b3",
   "metadata": {},
   "outputs": [
    {
     "data": {
      "text/plain": [
       "3"
      ]
     },
     "execution_count": 24,
     "metadata": {},
     "output_type": "execute_result"
    }
   ],
   "source": [
    "t = (111,222,333,444,555,111,222,111)\n",
    "t.count(111)"
   ]
  },
  {
   "cell_type": "code",
   "execution_count": 27,
   "id": "9d36dcf0",
   "metadata": {},
   "outputs": [
    {
     "data": {
      "text/plain": [
       "1"
      ]
     },
     "execution_count": 27,
     "metadata": {},
     "output_type": "execute_result"
    }
   ],
   "source": [
    "t = (111,222,333,444,555,111,222,111)\n",
    "t.index(222)"
   ]
  },
  {
   "cell_type": "markdown",
   "id": "8dfeaa16",
   "metadata": {},
   "source": [
    "# Sets\n",
    "Sets are used to store multiple items in a single variable. In sets:\n",
    "- Unordered\n",
    "- Unchangeable(but we can add and remove items)\n",
    "- Not allow duplicates"
   ]
  },
  {
   "cell_type": "markdown",
   "id": "37f3204f",
   "metadata": {},
   "source": [
    "#### Set Constructor"
   ]
  },
  {
   "cell_type": "code",
   "execution_count": 31,
   "id": "e1db78aa",
   "metadata": {},
   "outputs": [
    {
     "name": "stdout",
     "output_type": "stream",
     "text": [
      "{False, True, 'mango', 'orange', 'apple'}\n",
      "<class 'set'>\n"
     ]
    }
   ],
   "source": [
    "s = set((\"apple\",\"orange\",\"mango\",False,0,True,1))\n",
    "print(s)\n",
    "print(type(s))"
   ]
  },
  {
   "cell_type": "markdown",
   "id": "b707fd3a",
   "metadata": {},
   "source": [
    "#### Add Items"
   ]
  },
  {
   "cell_type": "code",
   "execution_count": 33,
   "id": "2eb2380f",
   "metadata": {},
   "outputs": [
    {
     "name": "stdout",
     "output_type": "stream",
     "text": [
      "{'orange', 'apple', 'mango', 'banana'}\n"
     ]
    }
   ],
   "source": [
    "s = {\"apple\",\"mango\",\"orange\"}\n",
    "s.add(\"banana\")\n",
    "print(s)"
   ]
  },
  {
   "cell_type": "code",
   "execution_count": 34,
   "id": "358a998c",
   "metadata": {},
   "outputs": [
    {
     "name": "stdout",
     "output_type": "stream",
     "text": [
      "{33, 'apple', 'mango', 22, 'orange', 11, 44}\n"
     ]
    }
   ],
   "source": [
    "# adding more than one items combinely\n",
    "s = {\"apple\",\"mango\",\"orange\"}\n",
    "s.update({11,22,33,44})\n",
    "print(s)"
   ]
  },
  {
   "cell_type": "markdown",
   "id": "abcf16e4",
   "metadata": {},
   "source": [
    "#### Remove Items\n",
    "We can do it using both remove() or discard(). But advantage of discard() is that, it not raise error if items not exist"
   ]
  },
  {
   "cell_type": "code",
   "execution_count": 35,
   "id": "b8cc0fd5",
   "metadata": {},
   "outputs": [
    {
     "name": "stdout",
     "output_type": "stream",
     "text": [
      "{'orange', 'mango'}\n",
      "{'orange', 'mango'}\n"
     ]
    }
   ],
   "source": [
    "s = {\"apple\",\"mango\",\"orange\"}\n",
    "s.remove(\"apple\")\n",
    "print(s)\n",
    "s.discard(\"aaaa\")\n",
    "print(s)"
   ]
  },
  {
   "cell_type": "markdown",
   "id": "fc24f33f",
   "metadata": {},
   "source": [
    "#### Union() and Intersection() and Symmectric_difference()"
   ]
  },
  {
   "cell_type": "code",
   "execution_count": 36,
   "id": "48bfd943",
   "metadata": {},
   "outputs": [
    {
     "name": "stdout",
     "output_type": "stream",
     "text": [
      "{33, 'apple', 'mango', 22, 'orange', 11}\n"
     ]
    }
   ],
   "source": [
    "# union()\n",
    "s1 = {\"apple\",\"mango\",\"orange\"}\n",
    "s2 = {11,22,33}\n",
    "s3 = s1.union(s2) # union() is same as update()\n",
    "print(s3)"
   ]
  },
  {
   "cell_type": "code",
   "execution_count": 38,
   "id": "088ff6c9",
   "metadata": {},
   "outputs": [
    {
     "name": "stdout",
     "output_type": "stream",
     "text": [
      "{'orange', 'apple'}\n"
     ]
    }
   ],
   "source": [
    "# intersection() --- return items present in both sets\n",
    "s1 = {\"apple\",\"mango\",\"orange\"}\n",
    "s2 = {\"apple\",\"orange\",\"kiwi\"}\n",
    "s3 = s1.intersection(s2)\n",
    "print(s3)"
   ]
  },
  {
   "cell_type": "code",
   "execution_count": 39,
   "id": "7bbc119e",
   "metadata": {},
   "outputs": [
    {
     "name": "stdout",
     "output_type": "stream",
     "text": [
      "{'orange', 11, 'mango', 22}\n"
     ]
    }
   ],
   "source": [
    "# symmetric_difference() --- return items don't present in both sets\n",
    "s1 = {\"apple\",\"mango\",\"orange\"}\n",
    "s2 = {\"apple\",11,22}\n",
    "s3 = s1.symmetric_difference(s2)\n",
    "print(s3)"
   ]
  },
  {
   "cell_type": "markdown",
   "id": "d129ac55",
   "metadata": {},
   "source": [
    "#### Popular Set Methods\n",
    "\n",
    "- add()\n",
    "- remove()\n",
    "- discard()\n",
    "- union()\n",
    "- update()\n",
    "- intersection()\n",
    "- symmetric_difference()\n",
    "- clear()\n",
    "- copy()"
   ]
  }
 ],
 "metadata": {
  "kernelspec": {
   "display_name": "Python 3 (ipykernel)",
   "language": "python",
   "name": "python3"
  },
  "language_info": {
   "codemirror_mode": {
    "name": "ipython",
    "version": 3
   },
   "file_extension": ".py",
   "mimetype": "text/x-python",
   "name": "python",
   "nbconvert_exporter": "python",
   "pygments_lexer": "ipython3",
   "version": "3.11.3"
  }
 },
 "nbformat": 4,
 "nbformat_minor": 5
}
