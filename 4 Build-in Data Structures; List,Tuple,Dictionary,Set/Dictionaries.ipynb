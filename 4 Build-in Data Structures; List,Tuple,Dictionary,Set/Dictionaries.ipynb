{
 "cells": [
  {
   "cell_type": "markdown",
   "id": "f2548a83",
   "metadata": {},
   "source": [
    "# Dictionaries\n",
    "Dictionaries are used to store values in key:value pairs. Distionaries are:\n",
    "\n",
    "- Ordered\n",
    "- Changeable\n",
    "- Do not allow duplicates values"
   ]
  },
  {
   "cell_type": "markdown",
   "id": "e4c5c780",
   "metadata": {},
   "source": [
    "#### Dictionary constructor"
   ]
  },
  {
   "cell_type": "code",
   "execution_count": 2,
   "id": "b022f4ba",
   "metadata": {},
   "outputs": [
    {
     "name": "stdout",
     "output_type": "stream",
     "text": [
      "{'name': 'Abdullah Khan', 'age': 12, 'occupation': 'Programmer'}\n",
      "<class 'dict'>\n"
     ]
    }
   ],
   "source": [
    "d = dict(name=\"Abdullah Khan\", age=12, occupation=\"Programmer\")\n",
    "print(d)\n",
    "print(type(d))"
   ]
  },
  {
   "cell_type": "code",
   "execution_count": 1,
   "id": "15c8fe32",
   "metadata": {},
   "outputs": [
    {
     "name": "stdout",
     "output_type": "stream",
     "text": [
      "<class 'dict'>\n",
      "{'name': 'Abdullah', 'age': 23, 'occupation': 'Programmer'}\n"
     ]
    }
   ],
   "source": [
    "# we can also use construct in this way\n",
    "dic = dict({\n",
    "    \"name\":\"Abdullah\",\n",
    "    \"age\":23,\n",
    "    \"occupation\":\"Programmer\"\n",
    "})\n",
    "print(type(dic))\n",
    "print(dic)"
   ]
  },
  {
   "cell_type": "markdown",
   "id": "b62a930d",
   "metadata": {},
   "source": [
    "#### Access Items"
   ]
  },
  {
   "cell_type": "code",
   "execution_count": 6,
   "id": "90b19d0c",
   "metadata": {},
   "outputs": [
    {
     "data": {
      "text/plain": [
       "'Abdullah Khan'"
      ]
     },
     "execution_count": 6,
     "metadata": {},
     "output_type": "execute_result"
    }
   ],
   "source": [
    "# using keys\n",
    "d = {\"name\":\"Abdullah Khan\", \"age\":22, \"occupation\":\"Programmer\"}\n",
    "d[\"name\"]"
   ]
  },
  {
   "cell_type": "code",
   "execution_count": 7,
   "id": "be1c0331",
   "metadata": {},
   "outputs": [
    {
     "data": {
      "text/plain": [
       "22"
      ]
     },
     "execution_count": 7,
     "metadata": {},
     "output_type": "execute_result"
    }
   ],
   "source": [
    "# using get() method\n",
    "d = {\"name\":\"Abdullah Khan\", \"age\":22, \"occupation\":\"Programmer\"}\n",
    "d.get(\"age\")"
   ]
  },
  {
   "cell_type": "code",
   "execution_count": 8,
   "id": "8380b746",
   "metadata": {},
   "outputs": [
    {
     "data": {
      "text/plain": [
       "dict_keys(['name', 'age', 'occupation'])"
      ]
     },
     "execution_count": 8,
     "metadata": {},
     "output_type": "execute_result"
    }
   ],
   "source": [
    "d.keys()"
   ]
  },
  {
   "cell_type": "code",
   "execution_count": 9,
   "id": "9e9e89e5",
   "metadata": {},
   "outputs": [
    {
     "data": {
      "text/plain": [
       "dict_values(['Abdullah Khan', 22, 'Programmer'])"
      ]
     },
     "execution_count": 9,
     "metadata": {},
     "output_type": "execute_result"
    }
   ],
   "source": [
    "d.values()"
   ]
  },
  {
   "cell_type": "code",
   "execution_count": 10,
   "id": "115d7334",
   "metadata": {},
   "outputs": [
    {
     "data": {
      "text/plain": [
       "dict_items([('name', 'Abdullah Khan'), ('age', 22), ('occupation', 'Programmer')])"
      ]
     },
     "execution_count": 10,
     "metadata": {},
     "output_type": "execute_result"
    }
   ],
   "source": [
    "d.items()"
   ]
  },
  {
   "cell_type": "markdown",
   "id": "b7d9487f",
   "metadata": {},
   "source": [
    "#### Changeable( add items )\n"
   ]
  },
  {
   "cell_type": "code",
   "execution_count": 11,
   "id": "76db832d",
   "metadata": {},
   "outputs": [
    {
     "data": {
      "text/plain": [
       "{'name': 'Abdullah Khan',\n",
       " 'age': 22,\n",
       " 'occupation': 'Programmer',\n",
       " 'journey': 'Middle'}"
      ]
     },
     "execution_count": 11,
     "metadata": {},
     "output_type": "execute_result"
    }
   ],
   "source": [
    "d = {\"name\":\"Abdullah Khan\", \"age\":22, \"occupation\":\"Programmer\"}\n",
    "d[\"journey\"] = \"Middle\"\n",
    "d"
   ]
  },
  {
   "cell_type": "code",
   "execution_count": 12,
   "id": "99554eb3",
   "metadata": {},
   "outputs": [
    {
     "data": {
      "text/plain": [
       "{'name': 'Abdullah Khan',\n",
       " 'age': 22,\n",
       " 'occupation': 'Programmer',\n",
       " 'journey': 'Middle'}"
      ]
     },
     "execution_count": 12,
     "metadata": {},
     "output_type": "execute_result"
    }
   ],
   "source": [
    "# using update() method\n",
    "d = {\"name\":\"Abdullah Khan\", \"age\":22, \"occupation\":\"Programmer\"}\n",
    "d.update({\"journey\":\"Middle\"})\n",
    "d"
   ]
  },
  {
   "cell_type": "markdown",
   "id": "d5a69c0b",
   "metadata": {},
   "source": [
    "#### Changeable( update items )"
   ]
  },
  {
   "cell_type": "code",
   "execution_count": 13,
   "id": "05ad9abe",
   "metadata": {},
   "outputs": [
    {
     "data": {
      "text/plain": [
       "{'name': 'Waseem Khan', 'age': 22, 'occupation': 'Programmer'}"
      ]
     },
     "execution_count": 13,
     "metadata": {},
     "output_type": "execute_result"
    }
   ],
   "source": [
    "d = {\"name\":\"Abdullah Khan\", \"age\":22, \"occupation\":\"Programmer\"}\n",
    "d[\"name\"] = \"Waseem Khan\"\n",
    "d"
   ]
  },
  {
   "cell_type": "code",
   "execution_count": 15,
   "id": "da7ae309",
   "metadata": {},
   "outputs": [
    {
     "data": {
      "text/plain": [
       "{'name': 'Waseem Khan', 'age': 22, 'occupation': 'Programmer'}"
      ]
     },
     "execution_count": 15,
     "metadata": {},
     "output_type": "execute_result"
    }
   ],
   "source": [
    "# using update() method\n",
    "d = {\"name\":\"Abdullah Khan\", \"age\":22, \"occupation\":\"Programmer\"}\n",
    "d.update({\"name\":\"Waseem Khan\"})\n",
    "d"
   ]
  },
  {
   "cell_type": "markdown",
   "id": "b92f52e3",
   "metadata": {},
   "source": [
    "#### Changeable( remove items )"
   ]
  },
  {
   "cell_type": "code",
   "execution_count": 16,
   "id": "618e5ab8",
   "metadata": {},
   "outputs": [
    {
     "data": {
      "text/plain": [
       "{'age': 22, 'occupation': 'Programmer'}"
      ]
     },
     "execution_count": 16,
     "metadata": {},
     "output_type": "execute_result"
    }
   ],
   "source": [
    "d = {\"name\":\"Abdullah Khan\", \"age\":22, \"occupation\":\"Programmer\"}\n",
    "d.pop(\"name\")\n",
    "d"
   ]
  },
  {
   "cell_type": "code",
   "execution_count": 23,
   "id": "69d7cb4b",
   "metadata": {},
   "outputs": [
    {
     "name": "stdout",
     "output_type": "stream",
     "text": [
      "name\n",
      "age\n",
      "occupation\n"
     ]
    }
   ],
   "source": [
    "# for loop\n",
    "d = {\"name\":\"Abdullah Khan\", \"age\":22, \"occupation\":\"Programmer\"}\n",
    "for item in d.keys():\n",
    "    print(item)"
   ]
  },
  {
   "cell_type": "markdown",
   "id": "2c2d1dd2",
   "metadata": {},
   "source": [
    "#### Nested Distionaries"
   ]
  },
  {
   "cell_type": "code",
   "execution_count": 24,
   "id": "8f398254",
   "metadata": {},
   "outputs": [
    {
     "data": {
      "text/plain": [
       "{'name': {'Branch1': 'College Main Branch', 'Branch2': 'College New Branch'},\n",
       " 'strength': {'1': 1200, '2': 2300},\n",
       " 'occupation': {'11': 'Teaching', '22': 'Studying'}}"
      ]
     },
     "execution_count": 24,
     "metadata": {},
     "output_type": "execute_result"
    }
   ],
   "source": [
    "myCollege = {\n",
    "    \"name\":{\n",
    "        \"Branch1\":\"College Main Branch\",\n",
    "        \"Branch2\":\"College New Branch\"\n",
    "    },\n",
    "    \"strength\":{\n",
    "        \"1\":1200,\n",
    "        \"2\":2300\n",
    "    },\n",
    "    \"occupation\":{\n",
    "        \"11\":\"Teaching\",\n",
    "        \"22\":\"Studying\"\n",
    "    }\n",
    "}\n",
    "myCollege"
   ]
  },
  {
   "cell_type": "code",
   "execution_count": 26,
   "id": "f7cb8a1c",
   "metadata": {},
   "outputs": [
    {
     "name": "stdout",
     "output_type": "stream",
     "text": [
      "{'Branch1': 'College Main Branch', 'Branch2': 'College New Branch'}\n",
      "{'1': 1200, '2': 2300}\n",
      "{'11': 'Teaching', '22': 'Studying'}\n"
     ]
    }
   ],
   "source": [
    "for value in myCollege:\n",
    "    print(myCollege[value])"
   ]
  },
  {
   "cell_type": "code",
   "execution_count": 27,
   "id": "a648c0be",
   "metadata": {},
   "outputs": [
    {
     "data": {
      "text/plain": [
       "'Teaching'"
      ]
     },
     "execution_count": 27,
     "metadata": {},
     "output_type": "execute_result"
    }
   ],
   "source": [
    "# accessing items of nested distionary\n",
    "myCollege[\"occupation\"][\"11\"]"
   ]
  },
  {
   "cell_type": "code",
   "execution_count": 28,
   "id": "575e2832",
   "metadata": {},
   "outputs": [
    {
     "data": {
      "text/plain": [
       "1200"
      ]
     },
     "execution_count": 28,
     "metadata": {},
     "output_type": "execute_result"
    }
   ],
   "source": [
    "myCollege[\"strength\"][\"1\"]"
   ]
  },
  {
   "cell_type": "markdown",
   "id": "c9136161",
   "metadata": {},
   "source": [
    "#### Dictionaries Methods\n",
    "\n",
    "- update()\n",
    "- pop()\n",
    "- get()\n",
    "- clear()\n",
    "- keys()\n",
    "- values()\n",
    "- items()\n",
    "- copy()"
   ]
  }
 ],
 "metadata": {
  "kernelspec": {
   "display_name": "Python 3 (ipykernel)",
   "language": "python",
   "name": "python3"
  },
  "language_info": {
   "codemirror_mode": {
    "name": "ipython",
    "version": 3
   },
   "file_extension": ".py",
   "mimetype": "text/x-python",
   "name": "python",
   "nbconvert_exporter": "python",
   "pygments_lexer": "ipython3",
   "version": "3.11.3"
  }
 },
 "nbformat": 4,
 "nbformat_minor": 5
}
